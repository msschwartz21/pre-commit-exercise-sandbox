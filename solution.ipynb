{
 "cells": [
  {
   "cell_type": "code",
   "execution_count": null,
   "id": "4acf980b",
   "metadata": {
    "title": "Sample Notebook"
   },
   "outputs": [],
   "source": []
  },
  {
   "cell_type": "markdown",
   "id": "3f404b34",
   "metadata": {
    "cell_marker": "\"\"\""
   },
   "source": [
    "# Markdown cell\n",
    "with some content"
   ]
  },
  {
   "cell_type": "code",
   "execution_count": null,
   "id": "b02ad41f",
   "metadata": {},
   "outputs": [],
   "source": [
    "print(\"hello world\")"
   ]
  },
  {
   "cell_type": "code",
   "execution_count": null,
   "id": "345aa2f2",
   "metadata": {
    "tag": [
     "solution"
    ],
    "title": "solution"
   },
   "outputs": [],
   "source": [
    "print(\"this is the solution\")"
   ]
  }
 ],
 "metadata": {
  "jupytext": {
   "cell_metadata_filter": "all",
   "main_language": "python"
  }
 },
 "nbformat": 4,
 "nbformat_minor": 5
}
